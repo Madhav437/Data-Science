{
 "cells": [
  {
   "cell_type": "code",
   "execution_count": null,
   "metadata": {},
   "outputs": [],
   "source": [
    "fn =  Phi n / 5½\n",
    "    \n",
    "\n",
    "    "
   ]
  },
  {
   "cell_type": "code",
   "execution_count": null,
   "metadata": {},
   "outputs": [],
   "source": [
    "x = [0.5, 0.2, 0.9, 0.7, 0.001, 0.09, 0.55, 0.67, 0.88, 0.1234]\n",
    "\n"
   ]
  },
  {
   "cell_type": "code",
   "execution_count": 1,
   "metadata": {},
   "outputs": [
    {
     "ename": "SyntaxError",
     "evalue": "unexpected EOF while parsing (<ipython-input-1-7c7293a6ea88>, line 10)",
     "output_type": "error",
     "traceback": [
      "\u001b[0;36m  File \u001b[0;32m\"<ipython-input-1-7c7293a6ea88>\"\u001b[0;36m, line \u001b[0;32m10\u001b[0m\n\u001b[0;31m    print (2 * x ^4 + 5 * x ^3 - 18 * x ^2 - 27* x + 54\u001b[0m\n\u001b[0m                                                       ^\u001b[0m\n\u001b[0;31mSyntaxError\u001b[0m\u001b[0;31m:\u001b[0m unexpected EOF while parsing\n"
     ]
    }
   ],
   "source": [
    "import numpy as np\n",
    "\n",
    "ppar = [2,5,-18,-27,54]\n",
    "p = np.poly1d(ppar)\n",
    "\n",
    "print (p(4))\n",
    "print (np.polyval(ppar, 4))\n",
    "\n",
    "x = 4\n",
    "print (2 * x ^4 + 5 * x ^3 - 18 * x ^2 - 27* x + 54"
   ]
  },
  {
   "cell_type": "code",
   "execution_count": 5,
   "metadata": {},
   "outputs": [
    {
     "name": "stdout",
     "output_type": "stream",
     "text": [
      "True\n"
     ]
    }
   ],
   "source": [
    "def reverse(s):    \n",
    "\n",
    "    return s[::-1]   \n",
    "\n",
    "def isPalindrome(s):    \n",
    "\n",
    "    rev = reverse(s)      \n",
    "\n",
    "    if (s == rev):        \n",
    "\n",
    "        return True   \n",
    "\n",
    "    return False    \n",
    "\n",
    "s = \"BOB\"\n",
    "\n",
    "ans = isPalindrome(s) \n",
    "\n",
    "\n",
    "\n",
    "print(ans)"
   ]
  },
  {
   "cell_type": "code",
   "execution_count": 6,
   "metadata": {},
   "outputs": [
    {
     "name": "stdout",
     "output_type": "stream",
     "text": [
      "12 x 1 = 12\n",
      "12 x 2 = 24\n",
      "12 x 3 = 36\n",
      "12 x 4 = 48\n",
      "12 x 5 = 60\n",
      "12 x 6 = 72\n",
      "12 x 7 = 84\n",
      "12 x 8 = 96\n",
      "12 x 9 = 108\n",
      "12 x 10 = 120\n",
      "12 x 11 = 132\n",
      "12 x 12 = 144\n"
     ]
    }
   ],
   "source": [
    "num = 12\n",
    "for i in range(1, 13):\n",
    "    print(num, 'x', i, '=', num*i)"
   ]
  },
  {
   "cell_type": "code",
   "execution_count": null,
   "metadata": {},
   "outputs": [],
   "source": [
    "sum = 0\n",
    "count = 0\n",
    "for i in dataset:\n",
    "    sum = sum + i\n",
    "    count = count + 1\n",
    "    \n",
    "    \n",
    "mean = sum/count \n",
    "    "
   ]
  }
 ],
 "metadata": {
  "kernelspec": {
   "display_name": "Python 3",
   "language": "python",
   "name": "python3"
  },
  "language_info": {
   "codemirror_mode": {
    "name": "ipython",
    "version": 3
   },
   "file_extension": ".py",
   "mimetype": "text/x-python",
   "name": "python",
   "nbconvert_exporter": "python",
   "pygments_lexer": "ipython3",
   "version": "3.7.4"
  }
 },
 "nbformat": 4,
 "nbformat_minor": 2
}
